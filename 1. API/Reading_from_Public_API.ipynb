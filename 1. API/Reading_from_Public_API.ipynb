{
  "nbformat": 4,
  "nbformat_minor": 0,
  "metadata": {
    "colab": {
      "name": "Reading from Public API.ipynb",
      "provenance": [],
      "collapsed_sections": [],
      "toc_visible": true,
      "authorship_tag": "ABX9TyOQGjiMvRgKK0azstCFO3I6",
      "include_colab_link": true
    },
    "kernelspec": {
      "name": "python3",
      "display_name": "Python 3"
    }
  },
  "cells": [
    {
      "cell_type": "markdown",
      "metadata": {
        "id": "view-in-github",
        "colab_type": "text"
      },
      "source": [
        "<a href=\"https://colab.research.google.com/github/wanaflah/SL---Data-Engineering/blob/main/1.%20API/Reading_from_Public_API.ipynb\" target=\"_parent\"><img src=\"https://colab.research.google.com/assets/colab-badge.svg\" alt=\"Open In Colab\"/></a>"
      ]
    },
    {
      "cell_type": "markdown",
      "metadata": {
        "id": "zHlqLrpyiEae"
      },
      "source": [
        "# Reading data from Public API - REST API"
      ]
    },
    {
      "cell_type": "markdown",
      "metadata": {
        "id": "XKHHaYGoJcp-"
      },
      "source": [
        "In this notebook, the objective is to extract data from publicly available API for our usage. Generally this involves 3 steps:\r\n",
        "\r\n",
        "1. Importing necessary libraries\r\n",
        "\r\n",
        "> *requests* \r\n",
        "\r\n",
        "> *json* (to read our data)\r\n",
        "\r\n",
        "> *pandas* (not necessary, but is used in this example)\r\n",
        "\r\n",
        "2. Structuring the query\r\n",
        "\r\n",
        "> World Bank Data\r\n",
        "\r\n",
        "3. Making the requests\r\n",
        "\r\n",
        "> Data inspection\r\n",
        "\r\n",
        "> Status Code(s)\r\n",
        "\r\n",
        "\r\n",
        "\r\n",
        "\r\n",
        "\r\n",
        "\r\n",
        "\r\n"
      ]
    },
    {
      "cell_type": "markdown",
      "metadata": {
        "id": "PNYEobAeOEUC"
      },
      "source": [
        "## Importing Libraries"
      ]
    },
    {
      "cell_type": "code",
      "metadata": {
        "id": "jmlJrSTUhHOF"
      },
      "source": [
        "import pandas as pd\r\n",
        "import json\r\n",
        "import requests"
      ],
      "execution_count": 1,
      "outputs": []
    },
    {
      "cell_type": "markdown",
      "metadata": {
        "id": "4Xo9Qn87EFsQ"
      },
      "source": [
        "## Structuring the Query"
      ]
    },
    {
      "cell_type": "markdown",
      "metadata": {
        "id": "EEhBUkGHEa_r"
      },
      "source": [
        "### Using World Bank Data\r\n",
        "\r\n",
        "[World Bank Data](https://data.worldbank.org/)"
      ]
    },
    {
      "cell_type": "markdown",
      "metadata": {
        "id": "EeOAsuEiFENU"
      },
      "source": [
        "Normally, API data provider will have a developer page which defines how to grab the data. \r\n",
        "\r\n",
        "[World Bank Data Developer Page](https://datahelpdesk.worldbank.org/knowledgebase/articles/898581-api-basic-call-structures)"
      ]
    },
    {
      "cell_type": "markdown",
      "metadata": {
        "id": "KKsT3jByGCFo"
      },
      "source": [
        "Through World Bank Data example, there are two main ways for us to structure our query:\r\n",
        "*   Argument based: http://api.worldbank.org/V2/country?incomeLevel=LIC\r\n",
        "*   URL based: http://api.worldbank.org/V2/incomeLevel/LIC/country"
      ]
    },
    {
      "cell_type": "markdown",
      "metadata": {
        "id": "VAc6LCfDH3OK"
      },
      "source": [
        "#### Example 1 : Reading Country Data \r\n",
        "\r\n",
        "In this example, we want to extract general information about a country."
      ]
    },
    {
      "cell_type": "code",
      "metadata": {
        "id": "WaN6OdrkEfL3"
      },
      "source": [
        "# Structure the query\r\n",
        "\r\n",
        "query = \"http://api.worldbank.org/v2/country?format=json\""
      ],
      "execution_count": 2,
      "outputs": []
    },
    {
      "cell_type": "markdown",
      "metadata": {
        "id": "K40zSRfSLOs1"
      },
      "source": [
        "**Sanity Check**\r\n",
        "\r\n",
        "*   This part is not necessary, but can be useful. To perform sanity check, simply go to query. You should be seeing json formatted data.\r\n",
        "\r\n"
      ]
    },
    {
      "cell_type": "markdown",
      "metadata": {
        "id": "IbmsKMUoK8W0"
      },
      "source": [
        "## Making the requests"
      ]
    },
    {
      "cell_type": "code",
      "metadata": {
        "id": "d283cZGIJTrr"
      },
      "source": [
        "response = requests.get(query)"
      ],
      "execution_count": 3,
      "outputs": []
    },
    {
      "cell_type": "markdown",
      "metadata": {
        "id": "iVGfoLYBMRTP"
      },
      "source": [
        "Once code successfully ran, we can check the status code of our request. Some of the example status code are as follows:\r\n",
        "\r\n",
        "\r\n",
        "\r\n",
        "1. 200: Everything went okay, and the result has been returned (if any).\r\n",
        "2. 301: The server is redirecting you to a different endpoint. This can happen when a company switches domain names, or an endpoint name is changed.\r\n",
        "3. 400: The server thinks you made a bad request. This can happen when you don’t send along the right data, among other things.\r\n",
        "4. 401: The server thinks you’re not authenticated. Many APIs require login ccredentials, so this happens when you don’t send the right credentials to access an API.\r\n",
        "5. 403: The resource you’re trying to access is forbidden: you don’t have the right permissions to see it.\r\n",
        "6. 404: The resource you tried to access wasn’t found on the server.\r\n",
        "7. 503: The server is not ready to handle the request\r\n",
        "\r\n",
        "[Reference](https://www.restapitutorial.com/httpstatuscodes.html)\r\n"
      ]
    },
    {
      "cell_type": "code",
      "metadata": {
        "id": "wKMndr27MMQx",
        "colab": {
          "base_uri": "https://localhost:8080/"
        },
        "outputId": "8e1265a7-cb8e-4009-a768-f320b0b60b6a"
      },
      "source": [
        "response.status_code"
      ],
      "execution_count": 4,
      "outputs": [
        {
          "output_type": "execute_result",
          "data": {
            "text/plain": [
              "200"
            ]
          },
          "metadata": {
            "tags": []
          },
          "execution_count": 4
        }
      ]
    },
    {
      "cell_type": "markdown",
      "metadata": {
        "id": "ongvfDZUNeEi"
      },
      "source": [
        "Yeay! This means that our request are successful. Next, let's inspect our data"
      ]
    },
    {
      "cell_type": "markdown",
      "metadata": {
        "id": "l8U0nBprNmFH"
      },
      "source": [
        "## Data Inspection"
      ]
    },
    {
      "cell_type": "code",
      "metadata": {
        "id": "07vcfkbcMN_h",
        "colab": {
          "base_uri": "https://localhost:8080/"
        },
        "outputId": "ffc3727c-7465-40c8-dc0d-4ed64c22b117"
      },
      "source": [
        "print(response.json())"
      ],
      "execution_count": 5,
      "outputs": [
        {
          "output_type": "stream",
          "text": [
            "[{'page': 1, 'pages': 6, 'per_page': '50', 'total': 297}, [{'id': 'ABW', 'iso2Code': 'AW', 'name': 'Aruba', 'region': {'id': 'LCN', 'iso2code': 'ZJ', 'value': 'Latin America & Caribbean '}, 'adminregion': {'id': '', 'iso2code': '', 'value': ''}, 'incomeLevel': {'id': 'HIC', 'iso2code': 'XD', 'value': 'High income'}, 'lendingType': {'id': 'LNX', 'iso2code': 'XX', 'value': 'Not classified'}, 'capitalCity': 'Oranjestad', 'longitude': '-70.0167', 'latitude': '12.5167'}, {'id': 'AFG', 'iso2Code': 'AF', 'name': 'Afghanistan', 'region': {'id': 'SAS', 'iso2code': '8S', 'value': 'South Asia'}, 'adminregion': {'id': 'SAS', 'iso2code': '8S', 'value': 'South Asia'}, 'incomeLevel': {'id': 'LIC', 'iso2code': 'XM', 'value': 'Low income'}, 'lendingType': {'id': 'IDX', 'iso2code': 'XI', 'value': 'IDA'}, 'capitalCity': 'Kabul', 'longitude': '69.1761', 'latitude': '34.5228'}, {'id': 'AFR', 'iso2Code': 'A9', 'name': 'Africa', 'region': {'id': 'NA', 'iso2code': 'NA', 'value': 'Aggregates'}, 'adminregion': {'id': '', 'iso2code': '', 'value': ''}, 'incomeLevel': {'id': 'NA', 'iso2code': 'NA', 'value': 'Aggregates'}, 'lendingType': {'id': '', 'iso2code': '', 'value': 'Aggregates'}, 'capitalCity': '', 'longitude': '', 'latitude': ''}, {'id': 'AGO', 'iso2Code': 'AO', 'name': 'Angola', 'region': {'id': 'SSF', 'iso2code': 'ZG', 'value': 'Sub-Saharan Africa '}, 'adminregion': {'id': 'SSA', 'iso2code': 'ZF', 'value': 'Sub-Saharan Africa (excluding high income)'}, 'incomeLevel': {'id': 'LMC', 'iso2code': 'XN', 'value': 'Lower middle income'}, 'lendingType': {'id': 'IBD', 'iso2code': 'XF', 'value': 'IBRD'}, 'capitalCity': 'Luanda', 'longitude': '13.242', 'latitude': '-8.81155'}, {'id': 'ALB', 'iso2Code': 'AL', 'name': 'Albania', 'region': {'id': 'ECS', 'iso2code': 'Z7', 'value': 'Europe & Central Asia'}, 'adminregion': {'id': 'ECA', 'iso2code': '7E', 'value': 'Europe & Central Asia (excluding high income)'}, 'incomeLevel': {'id': 'UMC', 'iso2code': 'XT', 'value': 'Upper middle income'}, 'lendingType': {'id': 'IBD', 'iso2code': 'XF', 'value': 'IBRD'}, 'capitalCity': 'Tirane', 'longitude': '19.8172', 'latitude': '41.3317'}, {'id': 'AND', 'iso2Code': 'AD', 'name': 'Andorra', 'region': {'id': 'ECS', 'iso2code': 'Z7', 'value': 'Europe & Central Asia'}, 'adminregion': {'id': '', 'iso2code': '', 'value': ''}, 'incomeLevel': {'id': 'HIC', 'iso2code': 'XD', 'value': 'High income'}, 'lendingType': {'id': 'LNX', 'iso2code': 'XX', 'value': 'Not classified'}, 'capitalCity': 'Andorra la Vella', 'longitude': '1.5218', 'latitude': '42.5075'}, {'id': 'ARB', 'iso2Code': '1A', 'name': 'Arab World', 'region': {'id': 'NA', 'iso2code': 'NA', 'value': 'Aggregates'}, 'adminregion': {'id': '', 'iso2code': '', 'value': ''}, 'incomeLevel': {'id': 'NA', 'iso2code': 'NA', 'value': 'Aggregates'}, 'lendingType': {'id': '', 'iso2code': '', 'value': 'Aggregates'}, 'capitalCity': '', 'longitude': '', 'latitude': ''}, {'id': 'ARE', 'iso2Code': 'AE', 'name': 'United Arab Emirates', 'region': {'id': 'MEA', 'iso2code': 'ZQ', 'value': 'Middle East & North Africa'}, 'adminregion': {'id': '', 'iso2code': '', 'value': ''}, 'incomeLevel': {'id': 'HIC', 'iso2code': 'XD', 'value': 'High income'}, 'lendingType': {'id': 'LNX', 'iso2code': 'XX', 'value': 'Not classified'}, 'capitalCity': 'Abu Dhabi', 'longitude': '54.3705', 'latitude': '24.4764'}, {'id': 'ARG', 'iso2Code': 'AR', 'name': 'Argentina', 'region': {'id': 'LCN', 'iso2code': 'ZJ', 'value': 'Latin America & Caribbean '}, 'adminregion': {'id': 'LAC', 'iso2code': 'XJ', 'value': 'Latin America & Caribbean (excluding high income)'}, 'incomeLevel': {'id': 'UMC', 'iso2code': 'XT', 'value': 'Upper middle income'}, 'lendingType': {'id': 'IBD', 'iso2code': 'XF', 'value': 'IBRD'}, 'capitalCity': 'Buenos Aires', 'longitude': '-58.4173', 'latitude': '-34.6118'}, {'id': 'ARM', 'iso2Code': 'AM', 'name': 'Armenia', 'region': {'id': 'ECS', 'iso2code': 'Z7', 'value': 'Europe & Central Asia'}, 'adminregion': {'id': 'ECA', 'iso2code': '7E', 'value': 'Europe & Central Asia (excluding high income)'}, 'incomeLevel': {'id': 'UMC', 'iso2code': 'XT', 'value': 'Upper middle income'}, 'lendingType': {'id': 'IBD', 'iso2code': 'XF', 'value': 'IBRD'}, 'capitalCity': 'Yerevan', 'longitude': '44.509', 'latitude': '40.1596'}, {'id': 'ASM', 'iso2Code': 'AS', 'name': 'American Samoa', 'region': {'id': 'EAS', 'iso2code': 'Z4', 'value': 'East Asia & Pacific'}, 'adminregion': {'id': 'EAP', 'iso2code': '4E', 'value': 'East Asia & Pacific (excluding high income)'}, 'incomeLevel': {'id': 'UMC', 'iso2code': 'XT', 'value': 'Upper middle income'}, 'lendingType': {'id': 'LNX', 'iso2code': 'XX', 'value': 'Not classified'}, 'capitalCity': 'Pago Pago', 'longitude': '-170.691', 'latitude': '-14.2846'}, {'id': 'ATG', 'iso2Code': 'AG', 'name': 'Antigua and Barbuda', 'region': {'id': 'LCN', 'iso2code': 'ZJ', 'value': 'Latin America & Caribbean '}, 'adminregion': {'id': '', 'iso2code': '', 'value': ''}, 'incomeLevel': {'id': 'HIC', 'iso2code': 'XD', 'value': 'High income'}, 'lendingType': {'id': 'IBD', 'iso2code': 'XF', 'value': 'IBRD'}, 'capitalCity': \"Saint John's\", 'longitude': '-61.8456', 'latitude': '17.1175'}, {'id': 'AUS', 'iso2Code': 'AU', 'name': 'Australia', 'region': {'id': 'EAS', 'iso2code': 'Z4', 'value': 'East Asia & Pacific'}, 'adminregion': {'id': '', 'iso2code': '', 'value': ''}, 'incomeLevel': {'id': 'HIC', 'iso2code': 'XD', 'value': 'High income'}, 'lendingType': {'id': 'LNX', 'iso2code': 'XX', 'value': 'Not classified'}, 'capitalCity': 'Canberra', 'longitude': '149.129', 'latitude': '-35.282'}, {'id': 'AUT', 'iso2Code': 'AT', 'name': 'Austria', 'region': {'id': 'ECS', 'iso2code': 'Z7', 'value': 'Europe & Central Asia'}, 'adminregion': {'id': '', 'iso2code': '', 'value': ''}, 'incomeLevel': {'id': 'HIC', 'iso2code': 'XD', 'value': 'High income'}, 'lendingType': {'id': 'LNX', 'iso2code': 'XX', 'value': 'Not classified'}, 'capitalCity': 'Vienna', 'longitude': '16.3798', 'latitude': '48.2201'}, {'id': 'AZE', 'iso2Code': 'AZ', 'name': 'Azerbaijan', 'region': {'id': 'ECS', 'iso2code': 'Z7', 'value': 'Europe & Central Asia'}, 'adminregion': {'id': 'ECA', 'iso2code': '7E', 'value': 'Europe & Central Asia (excluding high income)'}, 'incomeLevel': {'id': 'UMC', 'iso2code': 'XT', 'value': 'Upper middle income'}, 'lendingType': {'id': 'IBD', 'iso2code': 'XF', 'value': 'IBRD'}, 'capitalCity': 'Baku', 'longitude': '49.8932', 'latitude': '40.3834'}, {'id': 'BDI', 'iso2Code': 'BI', 'name': 'Burundi', 'region': {'id': 'SSF', 'iso2code': 'ZG', 'value': 'Sub-Saharan Africa '}, 'adminregion': {'id': 'SSA', 'iso2code': 'ZF', 'value': 'Sub-Saharan Africa (excluding high income)'}, 'incomeLevel': {'id': 'LIC', 'iso2code': 'XM', 'value': 'Low income'}, 'lendingType': {'id': 'IDX', 'iso2code': 'XI', 'value': 'IDA'}, 'capitalCity': 'Bujumbura', 'longitude': '29.3639', 'latitude': '-3.3784'}, {'id': 'BEA', 'iso2Code': 'B4', 'name': 'East Asia & Pacific (IBRD-only countries)', 'region': {'id': 'NA', 'iso2code': 'NA', 'value': 'Aggregates'}, 'adminregion': {'id': '', 'iso2code': '', 'value': ''}, 'incomeLevel': {'id': 'NA', 'iso2code': 'NA', 'value': 'Aggregates'}, 'lendingType': {'id': '', 'iso2code': '', 'value': 'Aggregates'}, 'capitalCity': '', 'longitude': '', 'latitude': ''}, {'id': 'BEC', 'iso2Code': 'B7', 'name': 'Europe & Central Asia (IBRD-only countries)', 'region': {'id': 'NA', 'iso2code': 'NA', 'value': 'Aggregates'}, 'adminregion': {'id': '', 'iso2code': '', 'value': ''}, 'incomeLevel': {'id': 'NA', 'iso2code': 'NA', 'value': 'Aggregates'}, 'lendingType': {'id': '', 'iso2code': '', 'value': 'Aggregates'}, 'capitalCity': '', 'longitude': '', 'latitude': ''}, {'id': 'BEL', 'iso2Code': 'BE', 'name': 'Belgium', 'region': {'id': 'ECS', 'iso2code': 'Z7', 'value': 'Europe & Central Asia'}, 'adminregion': {'id': '', 'iso2code': '', 'value': ''}, 'incomeLevel': {'id': 'HIC', 'iso2code': 'XD', 'value': 'High income'}, 'lendingType': {'id': 'LNX', 'iso2code': 'XX', 'value': 'Not classified'}, 'capitalCity': 'Brussels', 'longitude': '4.36761', 'latitude': '50.8371'}, {'id': 'BEN', 'iso2Code': 'BJ', 'name': 'Benin', 'region': {'id': 'SSF', 'iso2code': 'ZG', 'value': 'Sub-Saharan Africa '}, 'adminregion': {'id': 'SSA', 'iso2code': 'ZF', 'value': 'Sub-Saharan Africa (excluding high income)'}, 'incomeLevel': {'id': 'LMC', 'iso2code': 'XN', 'value': 'Lower middle income'}, 'lendingType': {'id': 'IDX', 'iso2code': 'XI', 'value': 'IDA'}, 'capitalCity': 'Porto-Novo', 'longitude': '2.6323', 'latitude': '6.4779'}, {'id': 'BFA', 'iso2Code': 'BF', 'name': 'Burkina Faso', 'region': {'id': 'SSF', 'iso2code': 'ZG', 'value': 'Sub-Saharan Africa '}, 'adminregion': {'id': 'SSA', 'iso2code': 'ZF', 'value': 'Sub-Saharan Africa (excluding high income)'}, 'incomeLevel': {'id': 'LIC', 'iso2code': 'XM', 'value': 'Low income'}, 'lendingType': {'id': 'IDX', 'iso2code': 'XI', 'value': 'IDA'}, 'capitalCity': 'Ouagadougou', 'longitude': '-1.53395', 'latitude': '12.3605'}, {'id': 'BGD', 'iso2Code': 'BD', 'name': 'Bangladesh', 'region': {'id': 'SAS', 'iso2code': '8S', 'value': 'South Asia'}, 'adminregion': {'id': 'SAS', 'iso2code': '8S', 'value': 'South Asia'}, 'incomeLevel': {'id': 'LMC', 'iso2code': 'XN', 'value': 'Lower middle income'}, 'lendingType': {'id': 'IDX', 'iso2code': 'XI', 'value': 'IDA'}, 'capitalCity': 'Dhaka', 'longitude': '90.4113', 'latitude': '23.7055'}, {'id': 'BGR', 'iso2Code': 'BG', 'name': 'Bulgaria', 'region': {'id': 'ECS', 'iso2code': 'Z7', 'value': 'Europe & Central Asia'}, 'adminregion': {'id': 'ECA', 'iso2code': '7E', 'value': 'Europe & Central Asia (excluding high income)'}, 'incomeLevel': {'id': 'UMC', 'iso2code': 'XT', 'value': 'Upper middle income'}, 'lendingType': {'id': 'IBD', 'iso2code': 'XF', 'value': 'IBRD'}, 'capitalCity': 'Sofia', 'longitude': '23.3238', 'latitude': '42.7105'}, {'id': 'BHI', 'iso2Code': 'B1', 'name': 'IBRD countries classified as high income', 'region': {'id': 'NA', 'iso2code': 'NA', 'value': 'Aggregates'}, 'adminregion': {'id': '', 'iso2code': '', 'value': ''}, 'incomeLevel': {'id': 'NA', 'iso2code': 'NA', 'value': 'Aggregates'}, 'lendingType': {'id': '', 'iso2code': '', 'value': 'Aggregates'}, 'capitalCity': '', 'longitude': '', 'latitude': ''}, {'id': 'BHR', 'iso2Code': 'BH', 'name': 'Bahrain', 'region': {'id': 'MEA', 'iso2code': 'ZQ', 'value': 'Middle East & North Africa'}, 'adminregion': {'id': '', 'iso2code': '', 'value': ''}, 'incomeLevel': {'id': 'HIC', 'iso2code': 'XD', 'value': 'High income'}, 'lendingType': {'id': 'LNX', 'iso2code': 'XX', 'value': 'Not classified'}, 'capitalCity': 'Manama', 'longitude': '50.5354', 'latitude': '26.1921'}, {'id': 'BHS', 'iso2Code': 'BS', 'name': 'Bahamas, The', 'region': {'id': 'LCN', 'iso2code': 'ZJ', 'value': 'Latin America & Caribbean '}, 'adminregion': {'id': '', 'iso2code': '', 'value': ''}, 'incomeLevel': {'id': 'HIC', 'iso2code': 'XD', 'value': 'High income'}, 'lendingType': {'id': 'LNX', 'iso2code': 'XX', 'value': 'Not classified'}, 'capitalCity': 'Nassau', 'longitude': '-77.339', 'latitude': '25.0661'}, {'id': 'BIH', 'iso2Code': 'BA', 'name': 'Bosnia and Herzegovina', 'region': {'id': 'ECS', 'iso2code': 'Z7', 'value': 'Europe & Central Asia'}, 'adminregion': {'id': 'ECA', 'iso2code': '7E', 'value': 'Europe & Central Asia (excluding high income)'}, 'incomeLevel': {'id': 'UMC', 'iso2code': 'XT', 'value': 'Upper middle income'}, 'lendingType': {'id': 'IBD', 'iso2code': 'XF', 'value': 'IBRD'}, 'capitalCity': 'Sarajevo', 'longitude': '18.4214', 'latitude': '43.8607'}, {'id': 'BLA', 'iso2Code': 'B2', 'name': 'Latin America & the Caribbean (IBRD-only countries)', 'region': {'id': 'NA', 'iso2code': 'NA', 'value': 'Aggregates'}, 'adminregion': {'id': '', 'iso2code': '', 'value': ''}, 'incomeLevel': {'id': 'NA', 'iso2code': 'NA', 'value': 'Aggregates'}, 'lendingType': {'id': '', 'iso2code': '', 'value': 'Aggregates'}, 'capitalCity': '', 'longitude': '', 'latitude': ''}, {'id': 'BLR', 'iso2Code': 'BY', 'name': 'Belarus', 'region': {'id': 'ECS', 'iso2code': 'Z7', 'value': 'Europe & Central Asia'}, 'adminregion': {'id': 'ECA', 'iso2code': '7E', 'value': 'Europe & Central Asia (excluding high income)'}, 'incomeLevel': {'id': 'UMC', 'iso2code': 'XT', 'value': 'Upper middle income'}, 'lendingType': {'id': 'IBD', 'iso2code': 'XF', 'value': 'IBRD'}, 'capitalCity': 'Minsk', 'longitude': '27.5766', 'latitude': '53.9678'}, {'id': 'BLZ', 'iso2Code': 'BZ', 'name': 'Belize', 'region': {'id': 'LCN', 'iso2code': 'ZJ', 'value': 'Latin America & Caribbean '}, 'adminregion': {'id': 'LAC', 'iso2code': 'XJ', 'value': 'Latin America & Caribbean (excluding high income)'}, 'incomeLevel': {'id': 'UMC', 'iso2code': 'XT', 'value': 'Upper middle income'}, 'lendingType': {'id': 'IBD', 'iso2code': 'XF', 'value': 'IBRD'}, 'capitalCity': 'Belmopan', 'longitude': '-88.7713', 'latitude': '17.2534'}, {'id': 'BMN', 'iso2Code': 'B3', 'name': 'Middle East & North Africa (IBRD-only countries)', 'region': {'id': 'NA', 'iso2code': 'NA', 'value': 'Aggregates'}, 'adminregion': {'id': '', 'iso2code': '', 'value': ''}, 'incomeLevel': {'id': 'NA', 'iso2code': 'NA', 'value': 'Aggregates'}, 'lendingType': {'id': '', 'iso2code': '', 'value': 'Aggregates'}, 'capitalCity': '', 'longitude': '', 'latitude': ''}, {'id': 'BMU', 'iso2Code': 'BM', 'name': 'Bermuda', 'region': {'id': 'NAC', 'iso2code': 'XU', 'value': 'North America'}, 'adminregion': {'id': '', 'iso2code': '', 'value': ''}, 'incomeLevel': {'id': 'HIC', 'iso2code': 'XD', 'value': 'High income'}, 'lendingType': {'id': 'LNX', 'iso2code': 'XX', 'value': 'Not classified'}, 'capitalCity': 'Hamilton', 'longitude': '-64.706', 'latitude': '32.3293'}, {'id': 'BOL', 'iso2Code': 'BO', 'name': 'Bolivia', 'region': {'id': 'LCN', 'iso2code': 'ZJ', 'value': 'Latin America & Caribbean '}, 'adminregion': {'id': 'LAC', 'iso2code': 'XJ', 'value': 'Latin America & Caribbean (excluding high income)'}, 'incomeLevel': {'id': 'LMC', 'iso2code': 'XN', 'value': 'Lower middle income'}, 'lendingType': {'id': 'IBD', 'iso2code': 'XF', 'value': 'IBRD'}, 'capitalCity': 'La Paz', 'longitude': '-66.1936', 'latitude': '-13.9908'}, {'id': 'BRA', 'iso2Code': 'BR', 'name': 'Brazil', 'region': {'id': 'LCN', 'iso2code': 'ZJ', 'value': 'Latin America & Caribbean '}, 'adminregion': {'id': 'LAC', 'iso2code': 'XJ', 'value': 'Latin America & Caribbean (excluding high income)'}, 'incomeLevel': {'id': 'UMC', 'iso2code': 'XT', 'value': 'Upper middle income'}, 'lendingType': {'id': 'IBD', 'iso2code': 'XF', 'value': 'IBRD'}, 'capitalCity': 'Brasilia', 'longitude': '-47.9292', 'latitude': '-15.7801'}, {'id': 'BRB', 'iso2Code': 'BB', 'name': 'Barbados', 'region': {'id': 'LCN', 'iso2code': 'ZJ', 'value': 'Latin America & Caribbean '}, 'adminregion': {'id': '', 'iso2code': '', 'value': ''}, 'incomeLevel': {'id': 'HIC', 'iso2code': 'XD', 'value': 'High income'}, 'lendingType': {'id': 'LNX', 'iso2code': 'XX', 'value': 'Not classified'}, 'capitalCity': 'Bridgetown', 'longitude': '-59.6105', 'latitude': '13.0935'}, {'id': 'BRN', 'iso2Code': 'BN', 'name': 'Brunei Darussalam', 'region': {'id': 'EAS', 'iso2code': 'Z4', 'value': 'East Asia & Pacific'}, 'adminregion': {'id': '', 'iso2code': '', 'value': ''}, 'incomeLevel': {'id': 'HIC', 'iso2code': 'XD', 'value': 'High income'}, 'lendingType': {'id': 'LNX', 'iso2code': 'XX', 'value': 'Not classified'}, 'capitalCity': 'Bandar Seri Begawan', 'longitude': '114.946', 'latitude': '4.94199'}, {'id': 'BSS', 'iso2Code': 'B6', 'name': 'Sub-Saharan Africa (IBRD-only countries)', 'region': {'id': 'NA', 'iso2code': 'NA', 'value': 'Aggregates'}, 'adminregion': {'id': '', 'iso2code': '', 'value': ''}, 'incomeLevel': {'id': 'NA', 'iso2code': 'NA', 'value': 'Aggregates'}, 'lendingType': {'id': '', 'iso2code': '', 'value': 'Aggregates'}, 'capitalCity': '', 'longitude': '', 'latitude': ''}, {'id': 'BTN', 'iso2Code': 'BT', 'name': 'Bhutan', 'region': {'id': 'SAS', 'iso2code': '8S', 'value': 'South Asia'}, 'adminregion': {'id': 'SAS', 'iso2code': '8S', 'value': 'South Asia'}, 'incomeLevel': {'id': 'LMC', 'iso2code': 'XN', 'value': 'Lower middle income'}, 'lendingType': {'id': 'IDX', 'iso2code': 'XI', 'value': 'IDA'}, 'capitalCity': 'Thimphu', 'longitude': '89.6177', 'latitude': '27.5768'}, {'id': 'BWA', 'iso2Code': 'BW', 'name': 'Botswana', 'region': {'id': 'SSF', 'iso2code': 'ZG', 'value': 'Sub-Saharan Africa '}, 'adminregion': {'id': 'SSA', 'iso2code': 'ZF', 'value': 'Sub-Saharan Africa (excluding high income)'}, 'incomeLevel': {'id': 'UMC', 'iso2code': 'XT', 'value': 'Upper middle income'}, 'lendingType': {'id': 'IBD', 'iso2code': 'XF', 'value': 'IBRD'}, 'capitalCity': 'Gaborone', 'longitude': '25.9201', 'latitude': '-24.6544'}, {'id': 'CAA', 'iso2Code': 'C9', 'name': 'Sub-Saharan Africa (IFC classification)', 'region': {'id': 'NA', 'iso2code': 'NA', 'value': 'Aggregates'}, 'adminregion': {'id': '', 'iso2code': '', 'value': ''}, 'incomeLevel': {'id': 'NA', 'iso2code': 'NA', 'value': 'Aggregates'}, 'lendingType': {'id': '', 'iso2code': '', 'value': 'Aggregates'}, 'capitalCity': '', 'longitude': '', 'latitude': ''}, {'id': 'CAF', 'iso2Code': 'CF', 'name': 'Central African Republic', 'region': {'id': 'SSF', 'iso2code': 'ZG', 'value': 'Sub-Saharan Africa '}, 'adminregion': {'id': 'SSA', 'iso2code': 'ZF', 'value': 'Sub-Saharan Africa (excluding high income)'}, 'incomeLevel': {'id': 'LIC', 'iso2code': 'XM', 'value': 'Low income'}, 'lendingType': {'id': 'IDX', 'iso2code': 'XI', 'value': 'IDA'}, 'capitalCity': 'Bangui', 'longitude': '21.6407', 'latitude': '5.63056'}, {'id': 'CAN', 'iso2Code': 'CA', 'name': 'Canada', 'region': {'id': 'NAC', 'iso2code': 'XU', 'value': 'North America'}, 'adminregion': {'id': '', 'iso2code': '', 'value': ''}, 'incomeLevel': {'id': 'HIC', 'iso2code': 'XD', 'value': 'High income'}, 'lendingType': {'id': 'LNX', 'iso2code': 'XX', 'value': 'Not classified'}, 'capitalCity': 'Ottawa', 'longitude': '-75.6919', 'latitude': '45.4215'}, {'id': 'CEA', 'iso2Code': 'C4', 'name': 'East Asia and the Pacific (IFC classification)', 'region': {'id': 'NA', 'iso2code': 'NA', 'value': 'Aggregates'}, 'adminregion': {'id': '', 'iso2code': '', 'value': ''}, 'incomeLevel': {'id': 'NA', 'iso2code': 'NA', 'value': 'Aggregates'}, 'lendingType': {'id': '', 'iso2code': '', 'value': 'Aggregates'}, 'capitalCity': '', 'longitude': '', 'latitude': ''}, {'id': 'CEB', 'iso2Code': 'B8', 'name': 'Central Europe and the Baltics', 'region': {'id': 'NA', 'iso2code': 'NA', 'value': 'Aggregates'}, 'adminregion': {'id': '', 'iso2code': '', 'value': ''}, 'incomeLevel': {'id': 'NA', 'iso2code': 'NA', 'value': 'Aggregates'}, 'lendingType': {'id': '', 'iso2code': '', 'value': 'Aggregates'}, 'capitalCity': '', 'longitude': '', 'latitude': ''}, {'id': 'CEU', 'iso2Code': 'C5', 'name': 'Europe and Central Asia (IFC classification)', 'region': {'id': 'NA', 'iso2code': 'NA', 'value': 'Aggregates'}, 'adminregion': {'id': '', 'iso2code': '', 'value': ''}, 'incomeLevel': {'id': 'NA', 'iso2code': 'NA', 'value': 'Aggregates'}, 'lendingType': {'id': '', 'iso2code': '', 'value': 'Aggregates'}, 'capitalCity': '', 'longitude': '', 'latitude': ''}, {'id': 'CHE', 'iso2Code': 'CH', 'name': 'Switzerland', 'region': {'id': 'ECS', 'iso2code': 'Z7', 'value': 'Europe & Central Asia'}, 'adminregion': {'id': '', 'iso2code': '', 'value': ''}, 'incomeLevel': {'id': 'HIC', 'iso2code': 'XD', 'value': 'High income'}, 'lendingType': {'id': 'LNX', 'iso2code': 'XX', 'value': 'Not classified'}, 'capitalCity': 'Bern', 'longitude': '7.44821', 'latitude': '46.948'}, {'id': 'CHI', 'iso2Code': 'JG', 'name': 'Channel Islands', 'region': {'id': 'ECS', 'iso2code': 'Z7', 'value': 'Europe & Central Asia'}, 'adminregion': {'id': '', 'iso2code': '', 'value': ''}, 'incomeLevel': {'id': 'HIC', 'iso2code': 'XD', 'value': 'High income'}, 'lendingType': {'id': 'LNX', 'iso2code': 'XX', 'value': 'Not classified'}, 'capitalCity': '', 'longitude': '', 'latitude': ''}, {'id': 'CHL', 'iso2Code': 'CL', 'name': 'Chile', 'region': {'id': 'LCN', 'iso2code': 'ZJ', 'value': 'Latin America & Caribbean '}, 'adminregion': {'id': '', 'iso2code': '', 'value': ''}, 'incomeLevel': {'id': 'HIC', 'iso2code': 'XD', 'value': 'High income'}, 'lendingType': {'id': 'IBD', 'iso2code': 'XF', 'value': 'IBRD'}, 'capitalCity': 'Santiago', 'longitude': '-70.6475', 'latitude': '-33.475'}, {'id': 'CHN', 'iso2Code': 'CN', 'name': 'China', 'region': {'id': 'EAS', 'iso2code': 'Z4', 'value': 'East Asia & Pacific'}, 'adminregion': {'id': 'EAP', 'iso2code': '4E', 'value': 'East Asia & Pacific (excluding high income)'}, 'incomeLevel': {'id': 'UMC', 'iso2code': 'XT', 'value': 'Upper middle income'}, 'lendingType': {'id': 'IBD', 'iso2code': 'XF', 'value': 'IBRD'}, 'capitalCity': 'Beijing', 'longitude': '116.286', 'latitude': '40.0495'}, {'id': 'CIV', 'iso2Code': 'CI', 'name': \"Cote d'Ivoire\", 'region': {'id': 'SSF', 'iso2code': 'ZG', 'value': 'Sub-Saharan Africa '}, 'adminregion': {'id': 'SSA', 'iso2code': 'ZF', 'value': 'Sub-Saharan Africa (excluding high income)'}, 'incomeLevel': {'id': 'LMC', 'iso2code': 'XN', 'value': 'Lower middle income'}, 'lendingType': {'id': 'IDX', 'iso2code': 'XI', 'value': 'IDA'}, 'capitalCity': 'Yamoussoukro', 'longitude': '-4.0305', 'latitude': '5.332'}]]\n"
          ],
          "name": "stdout"
        }
      ]
    },
    {
      "cell_type": "markdown",
      "metadata": {
        "id": "YWQlBpNaORWV"
      },
      "source": [
        "Ouch, that is rather hard to read. To make it more readable, let's use *json* library."
      ]
    },
    {
      "cell_type": "code",
      "metadata": {
        "id": "W6ggk1C4NtBd"
      },
      "source": [
        "data_view = json.dumps(response.json(), indent=4)\r\n",
        "data = response.json()"
      ],
      "execution_count": 6,
      "outputs": []
    },
    {
      "cell_type": "code",
      "metadata": {
        "id": "dkeuE1CeOle6"
      },
      "source": [
        "#print(data)"
      ],
      "execution_count": 7,
      "outputs": []
    },
    {
      "cell_type": "markdown",
      "metadata": {
        "id": "a4xkVJXUPJ4w"
      },
      "source": [
        "Based on our inspection, we can see that there's two part of the result. \r\n",
        "\r\n",
        "1. Basic information\r\n",
        "        {\r\n",
        "        \"page\": 1,\r\n",
        "        \"pages\": 6,\r\n",
        "        \"per_page\": \"50\",\r\n",
        "        \"total\": 297},\r\n",
        "\r\n",
        "2.   The actual data we are interested in\r\n",
        "            {\"id\": \"ABW\",\r\n",
        "            \"iso2Code\": \"AW\",\r\n",
        "            \"name\": \"Aruba\",\r\n",
        "            \"region\": {\r\n",
        "                \"id\": \"LCN\",\r\n",
        "                \"iso2code\": \"ZJ\",\r\n",
        "                \"value\": \"Latin America & Caribbean \"\r\n",
        "            },\r\n",
        "            \"adminregion\": {\r\n",
        "                \"id\": \"\",\r\n",
        "                \"iso2code\": \"\",\r\n",
        "                \"value\": \"\"\r\n",
        "            },\r\n",
        "            \"incomeLevel\": {\r\n",
        "                \"id\": \"HIC\",\r\n",
        "                \"iso2code\": \"XD\",\r\n",
        "                \"value\": \"High income\"\r\n",
        "            },\r\n",
        "            \"lendingType\": {\r\n",
        "                \"id\": \"LNX\",\r\n",
        "                \"iso2code\": \"XX\",\r\n",
        "                \"value\": \"Not classified\"\r\n",
        "            },\r\n",
        "            \"capitalCity\": \"Oranjestad\",\r\n",
        "            \"longitude\": \"-70.0167\",\r\n",
        "            \"latitude\": \"12.5167\" },"
      ]
    },
    {
      "cell_type": "code",
      "metadata": {
        "id": "e6VT66GJOmXU",
        "colab": {
          "base_uri": "https://localhost:8080/"
        },
        "outputId": "e961b242-ede4-49db-c833-36d12e93212f"
      },
      "source": [
        "data[1]"
      ],
      "execution_count": 8,
      "outputs": [
        {
          "output_type": "execute_result",
          "data": {
            "text/plain": [
              "[{'adminregion': {'id': '', 'iso2code': '', 'value': ''},\n",
              "  'capitalCity': 'Oranjestad',\n",
              "  'id': 'ABW',\n",
              "  'incomeLevel': {'id': 'HIC', 'iso2code': 'XD', 'value': 'High income'},\n",
              "  'iso2Code': 'AW',\n",
              "  'latitude': '12.5167',\n",
              "  'lendingType': {'id': 'LNX', 'iso2code': 'XX', 'value': 'Not classified'},\n",
              "  'longitude': '-70.0167',\n",
              "  'name': 'Aruba',\n",
              "  'region': {'id': 'LCN',\n",
              "   'iso2code': 'ZJ',\n",
              "   'value': 'Latin America & Caribbean '}},\n",
              " {'adminregion': {'id': 'SAS', 'iso2code': '8S', 'value': 'South Asia'},\n",
              "  'capitalCity': 'Kabul',\n",
              "  'id': 'AFG',\n",
              "  'incomeLevel': {'id': 'LIC', 'iso2code': 'XM', 'value': 'Low income'},\n",
              "  'iso2Code': 'AF',\n",
              "  'latitude': '34.5228',\n",
              "  'lendingType': {'id': 'IDX', 'iso2code': 'XI', 'value': 'IDA'},\n",
              "  'longitude': '69.1761',\n",
              "  'name': 'Afghanistan',\n",
              "  'region': {'id': 'SAS', 'iso2code': '8S', 'value': 'South Asia'}},\n",
              " {'adminregion': {'id': '', 'iso2code': '', 'value': ''},\n",
              "  'capitalCity': '',\n",
              "  'id': 'AFR',\n",
              "  'incomeLevel': {'id': 'NA', 'iso2code': 'NA', 'value': 'Aggregates'},\n",
              "  'iso2Code': 'A9',\n",
              "  'latitude': '',\n",
              "  'lendingType': {'id': '', 'iso2code': '', 'value': 'Aggregates'},\n",
              "  'longitude': '',\n",
              "  'name': 'Africa',\n",
              "  'region': {'id': 'NA', 'iso2code': 'NA', 'value': 'Aggregates'}},\n",
              " {'adminregion': {'id': 'SSA',\n",
              "   'iso2code': 'ZF',\n",
              "   'value': 'Sub-Saharan Africa (excluding high income)'},\n",
              "  'capitalCity': 'Luanda',\n",
              "  'id': 'AGO',\n",
              "  'incomeLevel': {'id': 'LMC',\n",
              "   'iso2code': 'XN',\n",
              "   'value': 'Lower middle income'},\n",
              "  'iso2Code': 'AO',\n",
              "  'latitude': '-8.81155',\n",
              "  'lendingType': {'id': 'IBD', 'iso2code': 'XF', 'value': 'IBRD'},\n",
              "  'longitude': '13.242',\n",
              "  'name': 'Angola',\n",
              "  'region': {'id': 'SSF', 'iso2code': 'ZG', 'value': 'Sub-Saharan Africa '}},\n",
              " {'adminregion': {'id': 'ECA',\n",
              "   'iso2code': '7E',\n",
              "   'value': 'Europe & Central Asia (excluding high income)'},\n",
              "  'capitalCity': 'Tirane',\n",
              "  'id': 'ALB',\n",
              "  'incomeLevel': {'id': 'UMC',\n",
              "   'iso2code': 'XT',\n",
              "   'value': 'Upper middle income'},\n",
              "  'iso2Code': 'AL',\n",
              "  'latitude': '41.3317',\n",
              "  'lendingType': {'id': 'IBD', 'iso2code': 'XF', 'value': 'IBRD'},\n",
              "  'longitude': '19.8172',\n",
              "  'name': 'Albania',\n",
              "  'region': {'id': 'ECS', 'iso2code': 'Z7', 'value': 'Europe & Central Asia'}},\n",
              " {'adminregion': {'id': '', 'iso2code': '', 'value': ''},\n",
              "  'capitalCity': 'Andorra la Vella',\n",
              "  'id': 'AND',\n",
              "  'incomeLevel': {'id': 'HIC', 'iso2code': 'XD', 'value': 'High income'},\n",
              "  'iso2Code': 'AD',\n",
              "  'latitude': '42.5075',\n",
              "  'lendingType': {'id': 'LNX', 'iso2code': 'XX', 'value': 'Not classified'},\n",
              "  'longitude': '1.5218',\n",
              "  'name': 'Andorra',\n",
              "  'region': {'id': 'ECS', 'iso2code': 'Z7', 'value': 'Europe & Central Asia'}},\n",
              " {'adminregion': {'id': '', 'iso2code': '', 'value': ''},\n",
              "  'capitalCity': '',\n",
              "  'id': 'ARB',\n",
              "  'incomeLevel': {'id': 'NA', 'iso2code': 'NA', 'value': 'Aggregates'},\n",
              "  'iso2Code': '1A',\n",
              "  'latitude': '',\n",
              "  'lendingType': {'id': '', 'iso2code': '', 'value': 'Aggregates'},\n",
              "  'longitude': '',\n",
              "  'name': 'Arab World',\n",
              "  'region': {'id': 'NA', 'iso2code': 'NA', 'value': 'Aggregates'}},\n",
              " {'adminregion': {'id': '', 'iso2code': '', 'value': ''},\n",
              "  'capitalCity': 'Abu Dhabi',\n",
              "  'id': 'ARE',\n",
              "  'incomeLevel': {'id': 'HIC', 'iso2code': 'XD', 'value': 'High income'},\n",
              "  'iso2Code': 'AE',\n",
              "  'latitude': '24.4764',\n",
              "  'lendingType': {'id': 'LNX', 'iso2code': 'XX', 'value': 'Not classified'},\n",
              "  'longitude': '54.3705',\n",
              "  'name': 'United Arab Emirates',\n",
              "  'region': {'id': 'MEA',\n",
              "   'iso2code': 'ZQ',\n",
              "   'value': 'Middle East & North Africa'}},\n",
              " {'adminregion': {'id': 'LAC',\n",
              "   'iso2code': 'XJ',\n",
              "   'value': 'Latin America & Caribbean (excluding high income)'},\n",
              "  'capitalCity': 'Buenos Aires',\n",
              "  'id': 'ARG',\n",
              "  'incomeLevel': {'id': 'UMC',\n",
              "   'iso2code': 'XT',\n",
              "   'value': 'Upper middle income'},\n",
              "  'iso2Code': 'AR',\n",
              "  'latitude': '-34.6118',\n",
              "  'lendingType': {'id': 'IBD', 'iso2code': 'XF', 'value': 'IBRD'},\n",
              "  'longitude': '-58.4173',\n",
              "  'name': 'Argentina',\n",
              "  'region': {'id': 'LCN',\n",
              "   'iso2code': 'ZJ',\n",
              "   'value': 'Latin America & Caribbean '}},\n",
              " {'adminregion': {'id': 'ECA',\n",
              "   'iso2code': '7E',\n",
              "   'value': 'Europe & Central Asia (excluding high income)'},\n",
              "  'capitalCity': 'Yerevan',\n",
              "  'id': 'ARM',\n",
              "  'incomeLevel': {'id': 'UMC',\n",
              "   'iso2code': 'XT',\n",
              "   'value': 'Upper middle income'},\n",
              "  'iso2Code': 'AM',\n",
              "  'latitude': '40.1596',\n",
              "  'lendingType': {'id': 'IBD', 'iso2code': 'XF', 'value': 'IBRD'},\n",
              "  'longitude': '44.509',\n",
              "  'name': 'Armenia',\n",
              "  'region': {'id': 'ECS', 'iso2code': 'Z7', 'value': 'Europe & Central Asia'}},\n",
              " {'adminregion': {'id': 'EAP',\n",
              "   'iso2code': '4E',\n",
              "   'value': 'East Asia & Pacific (excluding high income)'},\n",
              "  'capitalCity': 'Pago Pago',\n",
              "  'id': 'ASM',\n",
              "  'incomeLevel': {'id': 'UMC',\n",
              "   'iso2code': 'XT',\n",
              "   'value': 'Upper middle income'},\n",
              "  'iso2Code': 'AS',\n",
              "  'latitude': '-14.2846',\n",
              "  'lendingType': {'id': 'LNX', 'iso2code': 'XX', 'value': 'Not classified'},\n",
              "  'longitude': '-170.691',\n",
              "  'name': 'American Samoa',\n",
              "  'region': {'id': 'EAS', 'iso2code': 'Z4', 'value': 'East Asia & Pacific'}},\n",
              " {'adminregion': {'id': '', 'iso2code': '', 'value': ''},\n",
              "  'capitalCity': \"Saint John's\",\n",
              "  'id': 'ATG',\n",
              "  'incomeLevel': {'id': 'HIC', 'iso2code': 'XD', 'value': 'High income'},\n",
              "  'iso2Code': 'AG',\n",
              "  'latitude': '17.1175',\n",
              "  'lendingType': {'id': 'IBD', 'iso2code': 'XF', 'value': 'IBRD'},\n",
              "  'longitude': '-61.8456',\n",
              "  'name': 'Antigua and Barbuda',\n",
              "  'region': {'id': 'LCN',\n",
              "   'iso2code': 'ZJ',\n",
              "   'value': 'Latin America & Caribbean '}},\n",
              " {'adminregion': {'id': '', 'iso2code': '', 'value': ''},\n",
              "  'capitalCity': 'Canberra',\n",
              "  'id': 'AUS',\n",
              "  'incomeLevel': {'id': 'HIC', 'iso2code': 'XD', 'value': 'High income'},\n",
              "  'iso2Code': 'AU',\n",
              "  'latitude': '-35.282',\n",
              "  'lendingType': {'id': 'LNX', 'iso2code': 'XX', 'value': 'Not classified'},\n",
              "  'longitude': '149.129',\n",
              "  'name': 'Australia',\n",
              "  'region': {'id': 'EAS', 'iso2code': 'Z4', 'value': 'East Asia & Pacific'}},\n",
              " {'adminregion': {'id': '', 'iso2code': '', 'value': ''},\n",
              "  'capitalCity': 'Vienna',\n",
              "  'id': 'AUT',\n",
              "  'incomeLevel': {'id': 'HIC', 'iso2code': 'XD', 'value': 'High income'},\n",
              "  'iso2Code': 'AT',\n",
              "  'latitude': '48.2201',\n",
              "  'lendingType': {'id': 'LNX', 'iso2code': 'XX', 'value': 'Not classified'},\n",
              "  'longitude': '16.3798',\n",
              "  'name': 'Austria',\n",
              "  'region': {'id': 'ECS', 'iso2code': 'Z7', 'value': 'Europe & Central Asia'}},\n",
              " {'adminregion': {'id': 'ECA',\n",
              "   'iso2code': '7E',\n",
              "   'value': 'Europe & Central Asia (excluding high income)'},\n",
              "  'capitalCity': 'Baku',\n",
              "  'id': 'AZE',\n",
              "  'incomeLevel': {'id': 'UMC',\n",
              "   'iso2code': 'XT',\n",
              "   'value': 'Upper middle income'},\n",
              "  'iso2Code': 'AZ',\n",
              "  'latitude': '40.3834',\n",
              "  'lendingType': {'id': 'IBD', 'iso2code': 'XF', 'value': 'IBRD'},\n",
              "  'longitude': '49.8932',\n",
              "  'name': 'Azerbaijan',\n",
              "  'region': {'id': 'ECS', 'iso2code': 'Z7', 'value': 'Europe & Central Asia'}},\n",
              " {'adminregion': {'id': 'SSA',\n",
              "   'iso2code': 'ZF',\n",
              "   'value': 'Sub-Saharan Africa (excluding high income)'},\n",
              "  'capitalCity': 'Bujumbura',\n",
              "  'id': 'BDI',\n",
              "  'incomeLevel': {'id': 'LIC', 'iso2code': 'XM', 'value': 'Low income'},\n",
              "  'iso2Code': 'BI',\n",
              "  'latitude': '-3.3784',\n",
              "  'lendingType': {'id': 'IDX', 'iso2code': 'XI', 'value': 'IDA'},\n",
              "  'longitude': '29.3639',\n",
              "  'name': 'Burundi',\n",
              "  'region': {'id': 'SSF', 'iso2code': 'ZG', 'value': 'Sub-Saharan Africa '}},\n",
              " {'adminregion': {'id': '', 'iso2code': '', 'value': ''},\n",
              "  'capitalCity': '',\n",
              "  'id': 'BEA',\n",
              "  'incomeLevel': {'id': 'NA', 'iso2code': 'NA', 'value': 'Aggregates'},\n",
              "  'iso2Code': 'B4',\n",
              "  'latitude': '',\n",
              "  'lendingType': {'id': '', 'iso2code': '', 'value': 'Aggregates'},\n",
              "  'longitude': '',\n",
              "  'name': 'East Asia & Pacific (IBRD-only countries)',\n",
              "  'region': {'id': 'NA', 'iso2code': 'NA', 'value': 'Aggregates'}},\n",
              " {'adminregion': {'id': '', 'iso2code': '', 'value': ''},\n",
              "  'capitalCity': '',\n",
              "  'id': 'BEC',\n",
              "  'incomeLevel': {'id': 'NA', 'iso2code': 'NA', 'value': 'Aggregates'},\n",
              "  'iso2Code': 'B7',\n",
              "  'latitude': '',\n",
              "  'lendingType': {'id': '', 'iso2code': '', 'value': 'Aggregates'},\n",
              "  'longitude': '',\n",
              "  'name': 'Europe & Central Asia (IBRD-only countries)',\n",
              "  'region': {'id': 'NA', 'iso2code': 'NA', 'value': 'Aggregates'}},\n",
              " {'adminregion': {'id': '', 'iso2code': '', 'value': ''},\n",
              "  'capitalCity': 'Brussels',\n",
              "  'id': 'BEL',\n",
              "  'incomeLevel': {'id': 'HIC', 'iso2code': 'XD', 'value': 'High income'},\n",
              "  'iso2Code': 'BE',\n",
              "  'latitude': '50.8371',\n",
              "  'lendingType': {'id': 'LNX', 'iso2code': 'XX', 'value': 'Not classified'},\n",
              "  'longitude': '4.36761',\n",
              "  'name': 'Belgium',\n",
              "  'region': {'id': 'ECS', 'iso2code': 'Z7', 'value': 'Europe & Central Asia'}},\n",
              " {'adminregion': {'id': 'SSA',\n",
              "   'iso2code': 'ZF',\n",
              "   'value': 'Sub-Saharan Africa (excluding high income)'},\n",
              "  'capitalCity': 'Porto-Novo',\n",
              "  'id': 'BEN',\n",
              "  'incomeLevel': {'id': 'LMC',\n",
              "   'iso2code': 'XN',\n",
              "   'value': 'Lower middle income'},\n",
              "  'iso2Code': 'BJ',\n",
              "  'latitude': '6.4779',\n",
              "  'lendingType': {'id': 'IDX', 'iso2code': 'XI', 'value': 'IDA'},\n",
              "  'longitude': '2.6323',\n",
              "  'name': 'Benin',\n",
              "  'region': {'id': 'SSF', 'iso2code': 'ZG', 'value': 'Sub-Saharan Africa '}},\n",
              " {'adminregion': {'id': 'SSA',\n",
              "   'iso2code': 'ZF',\n",
              "   'value': 'Sub-Saharan Africa (excluding high income)'},\n",
              "  'capitalCity': 'Ouagadougou',\n",
              "  'id': 'BFA',\n",
              "  'incomeLevel': {'id': 'LIC', 'iso2code': 'XM', 'value': 'Low income'},\n",
              "  'iso2Code': 'BF',\n",
              "  'latitude': '12.3605',\n",
              "  'lendingType': {'id': 'IDX', 'iso2code': 'XI', 'value': 'IDA'},\n",
              "  'longitude': '-1.53395',\n",
              "  'name': 'Burkina Faso',\n",
              "  'region': {'id': 'SSF', 'iso2code': 'ZG', 'value': 'Sub-Saharan Africa '}},\n",
              " {'adminregion': {'id': 'SAS', 'iso2code': '8S', 'value': 'South Asia'},\n",
              "  'capitalCity': 'Dhaka',\n",
              "  'id': 'BGD',\n",
              "  'incomeLevel': {'id': 'LMC',\n",
              "   'iso2code': 'XN',\n",
              "   'value': 'Lower middle income'},\n",
              "  'iso2Code': 'BD',\n",
              "  'latitude': '23.7055',\n",
              "  'lendingType': {'id': 'IDX', 'iso2code': 'XI', 'value': 'IDA'},\n",
              "  'longitude': '90.4113',\n",
              "  'name': 'Bangladesh',\n",
              "  'region': {'id': 'SAS', 'iso2code': '8S', 'value': 'South Asia'}},\n",
              " {'adminregion': {'id': 'ECA',\n",
              "   'iso2code': '7E',\n",
              "   'value': 'Europe & Central Asia (excluding high income)'},\n",
              "  'capitalCity': 'Sofia',\n",
              "  'id': 'BGR',\n",
              "  'incomeLevel': {'id': 'UMC',\n",
              "   'iso2code': 'XT',\n",
              "   'value': 'Upper middle income'},\n",
              "  'iso2Code': 'BG',\n",
              "  'latitude': '42.7105',\n",
              "  'lendingType': {'id': 'IBD', 'iso2code': 'XF', 'value': 'IBRD'},\n",
              "  'longitude': '23.3238',\n",
              "  'name': 'Bulgaria',\n",
              "  'region': {'id': 'ECS', 'iso2code': 'Z7', 'value': 'Europe & Central Asia'}},\n",
              " {'adminregion': {'id': '', 'iso2code': '', 'value': ''},\n",
              "  'capitalCity': '',\n",
              "  'id': 'BHI',\n",
              "  'incomeLevel': {'id': 'NA', 'iso2code': 'NA', 'value': 'Aggregates'},\n",
              "  'iso2Code': 'B1',\n",
              "  'latitude': '',\n",
              "  'lendingType': {'id': '', 'iso2code': '', 'value': 'Aggregates'},\n",
              "  'longitude': '',\n",
              "  'name': 'IBRD countries classified as high income',\n",
              "  'region': {'id': 'NA', 'iso2code': 'NA', 'value': 'Aggregates'}},\n",
              " {'adminregion': {'id': '', 'iso2code': '', 'value': ''},\n",
              "  'capitalCity': 'Manama',\n",
              "  'id': 'BHR',\n",
              "  'incomeLevel': {'id': 'HIC', 'iso2code': 'XD', 'value': 'High income'},\n",
              "  'iso2Code': 'BH',\n",
              "  'latitude': '26.1921',\n",
              "  'lendingType': {'id': 'LNX', 'iso2code': 'XX', 'value': 'Not classified'},\n",
              "  'longitude': '50.5354',\n",
              "  'name': 'Bahrain',\n",
              "  'region': {'id': 'MEA',\n",
              "   'iso2code': 'ZQ',\n",
              "   'value': 'Middle East & North Africa'}},\n",
              " {'adminregion': {'id': '', 'iso2code': '', 'value': ''},\n",
              "  'capitalCity': 'Nassau',\n",
              "  'id': 'BHS',\n",
              "  'incomeLevel': {'id': 'HIC', 'iso2code': 'XD', 'value': 'High income'},\n",
              "  'iso2Code': 'BS',\n",
              "  'latitude': '25.0661',\n",
              "  'lendingType': {'id': 'LNX', 'iso2code': 'XX', 'value': 'Not classified'},\n",
              "  'longitude': '-77.339',\n",
              "  'name': 'Bahamas, The',\n",
              "  'region': {'id': 'LCN',\n",
              "   'iso2code': 'ZJ',\n",
              "   'value': 'Latin America & Caribbean '}},\n",
              " {'adminregion': {'id': 'ECA',\n",
              "   'iso2code': '7E',\n",
              "   'value': 'Europe & Central Asia (excluding high income)'},\n",
              "  'capitalCity': 'Sarajevo',\n",
              "  'id': 'BIH',\n",
              "  'incomeLevel': {'id': 'UMC',\n",
              "   'iso2code': 'XT',\n",
              "   'value': 'Upper middle income'},\n",
              "  'iso2Code': 'BA',\n",
              "  'latitude': '43.8607',\n",
              "  'lendingType': {'id': 'IBD', 'iso2code': 'XF', 'value': 'IBRD'},\n",
              "  'longitude': '18.4214',\n",
              "  'name': 'Bosnia and Herzegovina',\n",
              "  'region': {'id': 'ECS', 'iso2code': 'Z7', 'value': 'Europe & Central Asia'}},\n",
              " {'adminregion': {'id': '', 'iso2code': '', 'value': ''},\n",
              "  'capitalCity': '',\n",
              "  'id': 'BLA',\n",
              "  'incomeLevel': {'id': 'NA', 'iso2code': 'NA', 'value': 'Aggregates'},\n",
              "  'iso2Code': 'B2',\n",
              "  'latitude': '',\n",
              "  'lendingType': {'id': '', 'iso2code': '', 'value': 'Aggregates'},\n",
              "  'longitude': '',\n",
              "  'name': 'Latin America & the Caribbean (IBRD-only countries)',\n",
              "  'region': {'id': 'NA', 'iso2code': 'NA', 'value': 'Aggregates'}},\n",
              " {'adminregion': {'id': 'ECA',\n",
              "   'iso2code': '7E',\n",
              "   'value': 'Europe & Central Asia (excluding high income)'},\n",
              "  'capitalCity': 'Minsk',\n",
              "  'id': 'BLR',\n",
              "  'incomeLevel': {'id': 'UMC',\n",
              "   'iso2code': 'XT',\n",
              "   'value': 'Upper middle income'},\n",
              "  'iso2Code': 'BY',\n",
              "  'latitude': '53.9678',\n",
              "  'lendingType': {'id': 'IBD', 'iso2code': 'XF', 'value': 'IBRD'},\n",
              "  'longitude': '27.5766',\n",
              "  'name': 'Belarus',\n",
              "  'region': {'id': 'ECS', 'iso2code': 'Z7', 'value': 'Europe & Central Asia'}},\n",
              " {'adminregion': {'id': 'LAC',\n",
              "   'iso2code': 'XJ',\n",
              "   'value': 'Latin America & Caribbean (excluding high income)'},\n",
              "  'capitalCity': 'Belmopan',\n",
              "  'id': 'BLZ',\n",
              "  'incomeLevel': {'id': 'UMC',\n",
              "   'iso2code': 'XT',\n",
              "   'value': 'Upper middle income'},\n",
              "  'iso2Code': 'BZ',\n",
              "  'latitude': '17.2534',\n",
              "  'lendingType': {'id': 'IBD', 'iso2code': 'XF', 'value': 'IBRD'},\n",
              "  'longitude': '-88.7713',\n",
              "  'name': 'Belize',\n",
              "  'region': {'id': 'LCN',\n",
              "   'iso2code': 'ZJ',\n",
              "   'value': 'Latin America & Caribbean '}},\n",
              " {'adminregion': {'id': '', 'iso2code': '', 'value': ''},\n",
              "  'capitalCity': '',\n",
              "  'id': 'BMN',\n",
              "  'incomeLevel': {'id': 'NA', 'iso2code': 'NA', 'value': 'Aggregates'},\n",
              "  'iso2Code': 'B3',\n",
              "  'latitude': '',\n",
              "  'lendingType': {'id': '', 'iso2code': '', 'value': 'Aggregates'},\n",
              "  'longitude': '',\n",
              "  'name': 'Middle East & North Africa (IBRD-only countries)',\n",
              "  'region': {'id': 'NA', 'iso2code': 'NA', 'value': 'Aggregates'}},\n",
              " {'adminregion': {'id': '', 'iso2code': '', 'value': ''},\n",
              "  'capitalCity': 'Hamilton',\n",
              "  'id': 'BMU',\n",
              "  'incomeLevel': {'id': 'HIC', 'iso2code': 'XD', 'value': 'High income'},\n",
              "  'iso2Code': 'BM',\n",
              "  'latitude': '32.3293',\n",
              "  'lendingType': {'id': 'LNX', 'iso2code': 'XX', 'value': 'Not classified'},\n",
              "  'longitude': '-64.706',\n",
              "  'name': 'Bermuda',\n",
              "  'region': {'id': 'NAC', 'iso2code': 'XU', 'value': 'North America'}},\n",
              " {'adminregion': {'id': 'LAC',\n",
              "   'iso2code': 'XJ',\n",
              "   'value': 'Latin America & Caribbean (excluding high income)'},\n",
              "  'capitalCity': 'La Paz',\n",
              "  'id': 'BOL',\n",
              "  'incomeLevel': {'id': 'LMC',\n",
              "   'iso2code': 'XN',\n",
              "   'value': 'Lower middle income'},\n",
              "  'iso2Code': 'BO',\n",
              "  'latitude': '-13.9908',\n",
              "  'lendingType': {'id': 'IBD', 'iso2code': 'XF', 'value': 'IBRD'},\n",
              "  'longitude': '-66.1936',\n",
              "  'name': 'Bolivia',\n",
              "  'region': {'id': 'LCN',\n",
              "   'iso2code': 'ZJ',\n",
              "   'value': 'Latin America & Caribbean '}},\n",
              " {'adminregion': {'id': 'LAC',\n",
              "   'iso2code': 'XJ',\n",
              "   'value': 'Latin America & Caribbean (excluding high income)'},\n",
              "  'capitalCity': 'Brasilia',\n",
              "  'id': 'BRA',\n",
              "  'incomeLevel': {'id': 'UMC',\n",
              "   'iso2code': 'XT',\n",
              "   'value': 'Upper middle income'},\n",
              "  'iso2Code': 'BR',\n",
              "  'latitude': '-15.7801',\n",
              "  'lendingType': {'id': 'IBD', 'iso2code': 'XF', 'value': 'IBRD'},\n",
              "  'longitude': '-47.9292',\n",
              "  'name': 'Brazil',\n",
              "  'region': {'id': 'LCN',\n",
              "   'iso2code': 'ZJ',\n",
              "   'value': 'Latin America & Caribbean '}},\n",
              " {'adminregion': {'id': '', 'iso2code': '', 'value': ''},\n",
              "  'capitalCity': 'Bridgetown',\n",
              "  'id': 'BRB',\n",
              "  'incomeLevel': {'id': 'HIC', 'iso2code': 'XD', 'value': 'High income'},\n",
              "  'iso2Code': 'BB',\n",
              "  'latitude': '13.0935',\n",
              "  'lendingType': {'id': 'LNX', 'iso2code': 'XX', 'value': 'Not classified'},\n",
              "  'longitude': '-59.6105',\n",
              "  'name': 'Barbados',\n",
              "  'region': {'id': 'LCN',\n",
              "   'iso2code': 'ZJ',\n",
              "   'value': 'Latin America & Caribbean '}},\n",
              " {'adminregion': {'id': '', 'iso2code': '', 'value': ''},\n",
              "  'capitalCity': 'Bandar Seri Begawan',\n",
              "  'id': 'BRN',\n",
              "  'incomeLevel': {'id': 'HIC', 'iso2code': 'XD', 'value': 'High income'},\n",
              "  'iso2Code': 'BN',\n",
              "  'latitude': '4.94199',\n",
              "  'lendingType': {'id': 'LNX', 'iso2code': 'XX', 'value': 'Not classified'},\n",
              "  'longitude': '114.946',\n",
              "  'name': 'Brunei Darussalam',\n",
              "  'region': {'id': 'EAS', 'iso2code': 'Z4', 'value': 'East Asia & Pacific'}},\n",
              " {'adminregion': {'id': '', 'iso2code': '', 'value': ''},\n",
              "  'capitalCity': '',\n",
              "  'id': 'BSS',\n",
              "  'incomeLevel': {'id': 'NA', 'iso2code': 'NA', 'value': 'Aggregates'},\n",
              "  'iso2Code': 'B6',\n",
              "  'latitude': '',\n",
              "  'lendingType': {'id': '', 'iso2code': '', 'value': 'Aggregates'},\n",
              "  'longitude': '',\n",
              "  'name': 'Sub-Saharan Africa (IBRD-only countries)',\n",
              "  'region': {'id': 'NA', 'iso2code': 'NA', 'value': 'Aggregates'}},\n",
              " {'adminregion': {'id': 'SAS', 'iso2code': '8S', 'value': 'South Asia'},\n",
              "  'capitalCity': 'Thimphu',\n",
              "  'id': 'BTN',\n",
              "  'incomeLevel': {'id': 'LMC',\n",
              "   'iso2code': 'XN',\n",
              "   'value': 'Lower middle income'},\n",
              "  'iso2Code': 'BT',\n",
              "  'latitude': '27.5768',\n",
              "  'lendingType': {'id': 'IDX', 'iso2code': 'XI', 'value': 'IDA'},\n",
              "  'longitude': '89.6177',\n",
              "  'name': 'Bhutan',\n",
              "  'region': {'id': 'SAS', 'iso2code': '8S', 'value': 'South Asia'}},\n",
              " {'adminregion': {'id': 'SSA',\n",
              "   'iso2code': 'ZF',\n",
              "   'value': 'Sub-Saharan Africa (excluding high income)'},\n",
              "  'capitalCity': 'Gaborone',\n",
              "  'id': 'BWA',\n",
              "  'incomeLevel': {'id': 'UMC',\n",
              "   'iso2code': 'XT',\n",
              "   'value': 'Upper middle income'},\n",
              "  'iso2Code': 'BW',\n",
              "  'latitude': '-24.6544',\n",
              "  'lendingType': {'id': 'IBD', 'iso2code': 'XF', 'value': 'IBRD'},\n",
              "  'longitude': '25.9201',\n",
              "  'name': 'Botswana',\n",
              "  'region': {'id': 'SSF', 'iso2code': 'ZG', 'value': 'Sub-Saharan Africa '}},\n",
              " {'adminregion': {'id': '', 'iso2code': '', 'value': ''},\n",
              "  'capitalCity': '',\n",
              "  'id': 'CAA',\n",
              "  'incomeLevel': {'id': 'NA', 'iso2code': 'NA', 'value': 'Aggregates'},\n",
              "  'iso2Code': 'C9',\n",
              "  'latitude': '',\n",
              "  'lendingType': {'id': '', 'iso2code': '', 'value': 'Aggregates'},\n",
              "  'longitude': '',\n",
              "  'name': 'Sub-Saharan Africa (IFC classification)',\n",
              "  'region': {'id': 'NA', 'iso2code': 'NA', 'value': 'Aggregates'}},\n",
              " {'adminregion': {'id': 'SSA',\n",
              "   'iso2code': 'ZF',\n",
              "   'value': 'Sub-Saharan Africa (excluding high income)'},\n",
              "  'capitalCity': 'Bangui',\n",
              "  'id': 'CAF',\n",
              "  'incomeLevel': {'id': 'LIC', 'iso2code': 'XM', 'value': 'Low income'},\n",
              "  'iso2Code': 'CF',\n",
              "  'latitude': '5.63056',\n",
              "  'lendingType': {'id': 'IDX', 'iso2code': 'XI', 'value': 'IDA'},\n",
              "  'longitude': '21.6407',\n",
              "  'name': 'Central African Republic',\n",
              "  'region': {'id': 'SSF', 'iso2code': 'ZG', 'value': 'Sub-Saharan Africa '}},\n",
              " {'adminregion': {'id': '', 'iso2code': '', 'value': ''},\n",
              "  'capitalCity': 'Ottawa',\n",
              "  'id': 'CAN',\n",
              "  'incomeLevel': {'id': 'HIC', 'iso2code': 'XD', 'value': 'High income'},\n",
              "  'iso2Code': 'CA',\n",
              "  'latitude': '45.4215',\n",
              "  'lendingType': {'id': 'LNX', 'iso2code': 'XX', 'value': 'Not classified'},\n",
              "  'longitude': '-75.6919',\n",
              "  'name': 'Canada',\n",
              "  'region': {'id': 'NAC', 'iso2code': 'XU', 'value': 'North America'}},\n",
              " {'adminregion': {'id': '', 'iso2code': '', 'value': ''},\n",
              "  'capitalCity': '',\n",
              "  'id': 'CEA',\n",
              "  'incomeLevel': {'id': 'NA', 'iso2code': 'NA', 'value': 'Aggregates'},\n",
              "  'iso2Code': 'C4',\n",
              "  'latitude': '',\n",
              "  'lendingType': {'id': '', 'iso2code': '', 'value': 'Aggregates'},\n",
              "  'longitude': '',\n",
              "  'name': 'East Asia and the Pacific (IFC classification)',\n",
              "  'region': {'id': 'NA', 'iso2code': 'NA', 'value': 'Aggregates'}},\n",
              " {'adminregion': {'id': '', 'iso2code': '', 'value': ''},\n",
              "  'capitalCity': '',\n",
              "  'id': 'CEB',\n",
              "  'incomeLevel': {'id': 'NA', 'iso2code': 'NA', 'value': 'Aggregates'},\n",
              "  'iso2Code': 'B8',\n",
              "  'latitude': '',\n",
              "  'lendingType': {'id': '', 'iso2code': '', 'value': 'Aggregates'},\n",
              "  'longitude': '',\n",
              "  'name': 'Central Europe and the Baltics',\n",
              "  'region': {'id': 'NA', 'iso2code': 'NA', 'value': 'Aggregates'}},\n",
              " {'adminregion': {'id': '', 'iso2code': '', 'value': ''},\n",
              "  'capitalCity': '',\n",
              "  'id': 'CEU',\n",
              "  'incomeLevel': {'id': 'NA', 'iso2code': 'NA', 'value': 'Aggregates'},\n",
              "  'iso2Code': 'C5',\n",
              "  'latitude': '',\n",
              "  'lendingType': {'id': '', 'iso2code': '', 'value': 'Aggregates'},\n",
              "  'longitude': '',\n",
              "  'name': 'Europe and Central Asia (IFC classification)',\n",
              "  'region': {'id': 'NA', 'iso2code': 'NA', 'value': 'Aggregates'}},\n",
              " {'adminregion': {'id': '', 'iso2code': '', 'value': ''},\n",
              "  'capitalCity': 'Bern',\n",
              "  'id': 'CHE',\n",
              "  'incomeLevel': {'id': 'HIC', 'iso2code': 'XD', 'value': 'High income'},\n",
              "  'iso2Code': 'CH',\n",
              "  'latitude': '46.948',\n",
              "  'lendingType': {'id': 'LNX', 'iso2code': 'XX', 'value': 'Not classified'},\n",
              "  'longitude': '7.44821',\n",
              "  'name': 'Switzerland',\n",
              "  'region': {'id': 'ECS', 'iso2code': 'Z7', 'value': 'Europe & Central Asia'}},\n",
              " {'adminregion': {'id': '', 'iso2code': '', 'value': ''},\n",
              "  'capitalCity': '',\n",
              "  'id': 'CHI',\n",
              "  'incomeLevel': {'id': 'HIC', 'iso2code': 'XD', 'value': 'High income'},\n",
              "  'iso2Code': 'JG',\n",
              "  'latitude': '',\n",
              "  'lendingType': {'id': 'LNX', 'iso2code': 'XX', 'value': 'Not classified'},\n",
              "  'longitude': '',\n",
              "  'name': 'Channel Islands',\n",
              "  'region': {'id': 'ECS', 'iso2code': 'Z7', 'value': 'Europe & Central Asia'}},\n",
              " {'adminregion': {'id': '', 'iso2code': '', 'value': ''},\n",
              "  'capitalCity': 'Santiago',\n",
              "  'id': 'CHL',\n",
              "  'incomeLevel': {'id': 'HIC', 'iso2code': 'XD', 'value': 'High income'},\n",
              "  'iso2Code': 'CL',\n",
              "  'latitude': '-33.475',\n",
              "  'lendingType': {'id': 'IBD', 'iso2code': 'XF', 'value': 'IBRD'},\n",
              "  'longitude': '-70.6475',\n",
              "  'name': 'Chile',\n",
              "  'region': {'id': 'LCN',\n",
              "   'iso2code': 'ZJ',\n",
              "   'value': 'Latin America & Caribbean '}},\n",
              " {'adminregion': {'id': 'EAP',\n",
              "   'iso2code': '4E',\n",
              "   'value': 'East Asia & Pacific (excluding high income)'},\n",
              "  'capitalCity': 'Beijing',\n",
              "  'id': 'CHN',\n",
              "  'incomeLevel': {'id': 'UMC',\n",
              "   'iso2code': 'XT',\n",
              "   'value': 'Upper middle income'},\n",
              "  'iso2Code': 'CN',\n",
              "  'latitude': '40.0495',\n",
              "  'lendingType': {'id': 'IBD', 'iso2code': 'XF', 'value': 'IBRD'},\n",
              "  'longitude': '116.286',\n",
              "  'name': 'China',\n",
              "  'region': {'id': 'EAS', 'iso2code': 'Z4', 'value': 'East Asia & Pacific'}},\n",
              " {'adminregion': {'id': 'SSA',\n",
              "   'iso2code': 'ZF',\n",
              "   'value': 'Sub-Saharan Africa (excluding high income)'},\n",
              "  'capitalCity': 'Yamoussoukro',\n",
              "  'id': 'CIV',\n",
              "  'incomeLevel': {'id': 'LMC',\n",
              "   'iso2code': 'XN',\n",
              "   'value': 'Lower middle income'},\n",
              "  'iso2Code': 'CI',\n",
              "  'latitude': '5.332',\n",
              "  'lendingType': {'id': 'IDX', 'iso2code': 'XI', 'value': 'IDA'},\n",
              "  'longitude': '-4.0305',\n",
              "  'name': \"Cote d'Ivoire\",\n",
              "  'region': {'id': 'SSF', 'iso2code': 'ZG', 'value': 'Sub-Saharan Africa '}}]"
            ]
          },
          "metadata": {
            "tags": []
          },
          "execution_count": 8
        }
      ]
    },
    {
      "cell_type": "code",
      "metadata": {
        "id": "WGkGEJoGRhhb"
      },
      "source": [
        "test = pd.DataFrame.from_dict(data[1])"
      ],
      "execution_count": 9,
      "outputs": []
    },
    {
      "cell_type": "code",
      "metadata": {
        "id": "D_0ZtN3cRikl",
        "colab": {
          "base_uri": "https://localhost:8080/",
          "height": 289
        },
        "outputId": "32fbd8e1-926b-48f3-e9c0-ab30819c8eed"
      },
      "source": [
        "test.tail()"
      ],
      "execution_count": 10,
      "outputs": [
        {
          "output_type": "execute_result",
          "data": {
            "text/html": [
              "<div>\n",
              "<style scoped>\n",
              "    .dataframe tbody tr th:only-of-type {\n",
              "        vertical-align: middle;\n",
              "    }\n",
              "\n",
              "    .dataframe tbody tr th {\n",
              "        vertical-align: top;\n",
              "    }\n",
              "\n",
              "    .dataframe thead th {\n",
              "        text-align: right;\n",
              "    }\n",
              "</style>\n",
              "<table border=\"1\" class=\"dataframe\">\n",
              "  <thead>\n",
              "    <tr style=\"text-align: right;\">\n",
              "      <th></th>\n",
              "      <th>id</th>\n",
              "      <th>iso2Code</th>\n",
              "      <th>name</th>\n",
              "      <th>region</th>\n",
              "      <th>adminregion</th>\n",
              "      <th>incomeLevel</th>\n",
              "      <th>lendingType</th>\n",
              "      <th>capitalCity</th>\n",
              "      <th>longitude</th>\n",
              "      <th>latitude</th>\n",
              "    </tr>\n",
              "  </thead>\n",
              "  <tbody>\n",
              "    <tr>\n",
              "      <th>45</th>\n",
              "      <td>CHE</td>\n",
              "      <td>CH</td>\n",
              "      <td>Switzerland</td>\n",
              "      <td>{'id': 'ECS', 'iso2code': 'Z7', 'value': 'Euro...</td>\n",
              "      <td>{'id': '', 'iso2code': '', 'value': ''}</td>\n",
              "      <td>{'id': 'HIC', 'iso2code': 'XD', 'value': 'High...</td>\n",
              "      <td>{'id': 'LNX', 'iso2code': 'XX', 'value': 'Not ...</td>\n",
              "      <td>Bern</td>\n",
              "      <td>7.44821</td>\n",
              "      <td>46.948</td>\n",
              "    </tr>\n",
              "    <tr>\n",
              "      <th>46</th>\n",
              "      <td>CHI</td>\n",
              "      <td>JG</td>\n",
              "      <td>Channel Islands</td>\n",
              "      <td>{'id': 'ECS', 'iso2code': 'Z7', 'value': 'Euro...</td>\n",
              "      <td>{'id': '', 'iso2code': '', 'value': ''}</td>\n",
              "      <td>{'id': 'HIC', 'iso2code': 'XD', 'value': 'High...</td>\n",
              "      <td>{'id': 'LNX', 'iso2code': 'XX', 'value': 'Not ...</td>\n",
              "      <td></td>\n",
              "      <td></td>\n",
              "      <td></td>\n",
              "    </tr>\n",
              "    <tr>\n",
              "      <th>47</th>\n",
              "      <td>CHL</td>\n",
              "      <td>CL</td>\n",
              "      <td>Chile</td>\n",
              "      <td>{'id': 'LCN', 'iso2code': 'ZJ', 'value': 'Lati...</td>\n",
              "      <td>{'id': '', 'iso2code': '', 'value': ''}</td>\n",
              "      <td>{'id': 'HIC', 'iso2code': 'XD', 'value': 'High...</td>\n",
              "      <td>{'id': 'IBD', 'iso2code': 'XF', 'value': 'IBRD'}</td>\n",
              "      <td>Santiago</td>\n",
              "      <td>-70.6475</td>\n",
              "      <td>-33.475</td>\n",
              "    </tr>\n",
              "    <tr>\n",
              "      <th>48</th>\n",
              "      <td>CHN</td>\n",
              "      <td>CN</td>\n",
              "      <td>China</td>\n",
              "      <td>{'id': 'EAS', 'iso2code': 'Z4', 'value': 'East...</td>\n",
              "      <td>{'id': 'EAP', 'iso2code': '4E', 'value': 'East...</td>\n",
              "      <td>{'id': 'UMC', 'iso2code': 'XT', 'value': 'Uppe...</td>\n",
              "      <td>{'id': 'IBD', 'iso2code': 'XF', 'value': 'IBRD'}</td>\n",
              "      <td>Beijing</td>\n",
              "      <td>116.286</td>\n",
              "      <td>40.0495</td>\n",
              "    </tr>\n",
              "    <tr>\n",
              "      <th>49</th>\n",
              "      <td>CIV</td>\n",
              "      <td>CI</td>\n",
              "      <td>Cote d'Ivoire</td>\n",
              "      <td>{'id': 'SSF', 'iso2code': 'ZG', 'value': 'Sub-...</td>\n",
              "      <td>{'id': 'SSA', 'iso2code': 'ZF', 'value': 'Sub-...</td>\n",
              "      <td>{'id': 'LMC', 'iso2code': 'XN', 'value': 'Lowe...</td>\n",
              "      <td>{'id': 'IDX', 'iso2code': 'XI', 'value': 'IDA'}</td>\n",
              "      <td>Yamoussoukro</td>\n",
              "      <td>-4.0305</td>\n",
              "      <td>5.332</td>\n",
              "    </tr>\n",
              "  </tbody>\n",
              "</table>\n",
              "</div>"
            ],
            "text/plain": [
              "     id iso2Code             name  ...   capitalCity longitude latitude\n",
              "45  CHE       CH      Switzerland  ...          Bern   7.44821   46.948\n",
              "46  CHI       JG  Channel Islands  ...                                 \n",
              "47  CHL       CL            Chile  ...      Santiago  -70.6475  -33.475\n",
              "48  CHN       CN            China  ...       Beijing   116.286  40.0495\n",
              "49  CIV       CI    Cote d'Ivoire  ...  Yamoussoukro   -4.0305    5.332\n",
              "\n",
              "[5 rows x 10 columns]"
            ]
          },
          "metadata": {
            "tags": []
          },
          "execution_count": 10
        }
      ]
    },
    {
      "cell_type": "code",
      "metadata": {
        "id": "9-xJ_7zESjIM",
        "colab": {
          "base_uri": "https://localhost:8080/"
        },
        "outputId": "ea407fb0-03cd-4872-e8a8-d5f1f4d1a546"
      },
      "source": [
        "data[1][0]"
      ],
      "execution_count": 11,
      "outputs": [
        {
          "output_type": "execute_result",
          "data": {
            "text/plain": [
              "{'adminregion': {'id': '', 'iso2code': '', 'value': ''},\n",
              " 'capitalCity': 'Oranjestad',\n",
              " 'id': 'ABW',\n",
              " 'incomeLevel': {'id': 'HIC', 'iso2code': 'XD', 'value': 'High income'},\n",
              " 'iso2Code': 'AW',\n",
              " 'latitude': '12.5167',\n",
              " 'lendingType': {'id': 'LNX', 'iso2code': 'XX', 'value': 'Not classified'},\n",
              " 'longitude': '-70.0167',\n",
              " 'name': 'Aruba',\n",
              " 'region': {'id': 'LCN',\n",
              "  'iso2code': 'ZJ',\n",
              "  'value': 'Latin America & Caribbean '}}"
            ]
          },
          "metadata": {
            "tags": []
          },
          "execution_count": 11
        }
      ]
    },
    {
      "cell_type": "markdown",
      "metadata": {
        "id": "ROV7vJJxEE_z"
      },
      "source": [
        "## Making requests - Query Parameters"
      ]
    },
    {
      "cell_type": "markdown",
      "metadata": {
        "id": "DTEJD95OHpae"
      },
      "source": [
        "In this part, we will try to add query parameters as part of the request"
      ]
    },
    {
      "cell_type": "code",
      "metadata": {
        "id": "BOAmMLBhTAXo"
      },
      "source": [
        "url = \"http://api.worldbank.org/V2/country\"\r\n",
        "params = {\"incomeLevel\" : \"LIC\", \"format\" : \"json\"}"
      ],
      "execution_count": 13,
      "outputs": []
    },
    {
      "cell_type": "code",
      "metadata": {
        "id": "yIVvrVeAEklv"
      },
      "source": [
        "response = requests.get(url, params=params)"
      ],
      "execution_count": 14,
      "outputs": []
    },
    {
      "cell_type": "code",
      "metadata": {
        "id": "DiY6tKqiHSKm",
        "outputId": "275a6ad4-32ea-45e7-d490-bec49111683f",
        "colab": {
          "base_uri": "https://localhost:8080/"
        }
      },
      "source": [
        "response.status_code"
      ],
      "execution_count": 15,
      "outputs": [
        {
          "output_type": "execute_result",
          "data": {
            "text/plain": [
              "200"
            ]
          },
          "metadata": {
            "tags": []
          },
          "execution_count": 15
        }
      ]
    },
    {
      "cell_type": "code",
      "metadata": {
        "id": "YeuFpafPHThX"
      },
      "source": [
        "data = response.json()"
      ],
      "execution_count": 18,
      "outputs": []
    },
    {
      "cell_type": "code",
      "metadata": {
        "id": "0b2B4GdqHchm"
      },
      "source": [
        ""
      ],
      "execution_count": null,
      "outputs": []
    }
  ]
}
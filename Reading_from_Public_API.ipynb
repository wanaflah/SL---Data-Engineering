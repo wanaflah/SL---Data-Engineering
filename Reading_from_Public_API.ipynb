{
  "nbformat": 4,
  "nbformat_minor": 0,
  "metadata": {
    "colab": {
      "name": "Reading from Public API.ipynb",
      "provenance": [],
      "collapsed_sections": [],
      "authorship_tag": "ABX9TyNYrFtxzcINWMRFAb+qlXPU",
      "include_colab_link": true
    },
    "kernelspec": {
      "name": "python3",
      "display_name": "Python 3"
    }
  },
  "cells": [
    {
      "cell_type": "markdown",
      "metadata": {
        "id": "view-in-github",
        "colab_type": "text"
      },
      "source": [
        "<a href=\"https://colab.research.google.com/github/wanaflah/Self-Learning/blob/main/Reading_from_Public_API.ipynb\" target=\"_parent\"><img src=\"https://colab.research.google.com/assets/colab-badge.svg\" alt=\"Open In Colab\"/></a>"
      ]
    },
    {
      "cell_type": "markdown",
      "metadata": {
        "id": "zHlqLrpyiEae"
      },
      "source": [
        "# Reading data from Public API"
      ]
    },
    {
      "cell_type": "markdown",
      "metadata": {
        "id": "XKHHaYGoJcp-"
      },
      "source": [
        "In this notebook, the objective is to extract data from publicly available API for our usage. Generally this involves 3 steps:\r\n",
        "\r\n",
        "1. Importing necessary libraries\r\n",
        "\r\n",
        "> *requests* \r\n",
        "\r\n",
        "> *pandas* (not necessary, but is used in this example)\r\n",
        "\r\n",
        "2. Structuring the query\r\n",
        "\r\n",
        "> World Bank Data\r\n",
        "\r\n",
        "3. Making the requests\r\n",
        "\r\n",
        "> Data inspection\r\n",
        "\r\n",
        "> Status Code(s)\r\n",
        "\r\n",
        "\r\n",
        "\r\n",
        "\r\n",
        "\r\n",
        "\r\n",
        "\r\n"
      ]
    },
    {
      "cell_type": "markdown",
      "metadata": {
        "id": "Mwbkn7aWD6pE"
      },
      "source": [
        "## Importing Libraries"
      ]
    },
    {
      "cell_type": "code",
      "metadata": {
        "id": "jmlJrSTUhHOF"
      },
      "source": [
        "import pandas as pd\r\n",
        "import requests"
      ],
      "execution_count": 1,
      "outputs": []
    },
    {
      "cell_type": "markdown",
      "metadata": {
        "id": "4Xo9Qn87EFsQ"
      },
      "source": [
        "## Importing Data"
      ]
    },
    {
      "cell_type": "markdown",
      "metadata": {
        "id": "EEhBUkGHEa_r"
      },
      "source": [
        "### Using World Bank Data\r\n",
        "\r\n",
        "[World Bank Data](https://data.worldbank.org/)"
      ]
    },
    {
      "cell_type": "markdown",
      "metadata": {
        "id": "EeOAsuEiFENU"
      },
      "source": [
        "Normally, API data provider will have a developer page which defines how to grab the data. \r\n",
        "\r\n",
        "[World Bank Data Developer Page](https://datahelpdesk.worldbank.org/knowledgebase/articles/898581-api-basic-call-structures)"
      ]
    },
    {
      "cell_type": "markdown",
      "metadata": {
        "id": "KKsT3jByGCFo"
      },
      "source": [
        "Through World Bank Data example, there are two main ways for us to structure our query:\r\n",
        "*   Argument based: http://api.worldbank.org/V2/country?incomeLevel=LIC\r\n",
        "*   URL based: http://api.worldbank.org/V2/incomeLevel/LIC/country"
      ]
    },
    {
      "cell_type": "markdown",
      "metadata": {
        "id": "VAc6LCfDH3OK"
      },
      "source": [
        "#### Example 1 : Reading Country Data \r\n",
        "\r\n",
        "In this example, we want to extract general information about a country."
      ]
    },
    {
      "cell_type": "code",
      "metadata": {
        "id": "WaN6OdrkEfL3"
      },
      "source": [
        "# Structure the query\r\n",
        "\r\n",
        "query = \"http://api.worldbank.org/v2/country\""
      ],
      "execution_count": 2,
      "outputs": []
    },
    {
      "cell_type": "code",
      "metadata": {
        "id": "d283cZGIJTrr"
      },
      "source": [
        ""
      ],
      "execution_count": null,
      "outputs": []
    }
  ]
}